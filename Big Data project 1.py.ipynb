{
 "cells": [
  {
   "cell_type": "code",
   "execution_count": 1,
   "id": "4fdd4026-a680-4345-b27e-b691aa63820e",
   "metadata": {},
   "outputs": [
    {
     "name": "stdout",
     "output_type": "stream",
     "text": [
      "  show_id     type    title director            cast         country  \\\n",
      "0      s1    Movie  Movie A    Dir A  Actor1, Actor2   United States   \n",
      "1      s2  TV Show   Show B    Dir B  Actor3, Actor4           India   \n",
      "2      s3    Movie  Movie C    Dir C          Actor5  United Kingdom   \n",
      "3      s4    Movie  Movie D    Dir D  Actor6, Actor7            <NA>   \n",
      "4      s5  TV Show   Show E     <NA>          Actor8           India   \n",
      "\n",
      "          date_added  release_year rating   duration           listed_in  \\\n",
      "0  September 9, 2019          2019     PG     90 min              Dramas   \n",
      "1    January 1, 2020          2020  TV-MA  2 Seasons            Comedies   \n",
      "2       June 6, 2021          2021  PG-13     95 min  Action & Adventure   \n",
      "3       July 4, 2018          2018      R    100 min              Dramas   \n",
      "4      March 1, 2022          2022  TV-14  3 Seasons            Comedies   \n",
      "\n",
      "               description  \n",
      "0        A dramatic movie.  \n",
      "1         A funny TV show.  \n",
      "2     Action-packed movie.  \n",
      "3  Another dramatic movie.  \n",
      "4     Another comedy show.  \n",
      "Total records: 5\n",
      "\n",
      "Content Type Counts:\n",
      " type\n",
      "Movie      3\n",
      "TV Show    2\n",
      "Name: count, dtype: int64[pyarrow]\n",
      "\n",
      "Top 10 Countries:\n",
      " country\n",
      "India             2\n",
      "United Kingdom    1\n",
      "United States     1\n",
      "Name: count, dtype: int64[pyarrow]\n",
      "\n",
      "Top Genres:\n",
      " listed_in\n",
      "Comedies              2\n",
      "Dramas                2\n",
      "Action & Adventure    1\n",
      "Name: count, dtype: int64[pyarrow]\n",
      "\n",
      "Titles Added by Year:\n",
      " year_added\n",
      "2018    1\n",
      "2019    1\n",
      "2020    1\n",
      "2021    1\n",
      "2022    1\n",
      "Name: count, dtype: int64\n"
     ]
    },
    {
     "data": {
      "image/png": "[encoded data removed]",
      "text/plain": [
       "<Figure size 1000x500 with 1 Axes>"
      ]
     },
     "metadata": {},
     "output_type": "display_data"
    }
   ],
   "source": [
    "import dask.dataframe as dd\n",
    "import matplotlib.pyplot as plt\n",
    "\n",
    "# Load large dataset using Dask\n",
    "df = dd.read_csv(\"netflix_titles.csv\")\n",
    "\n",
    "# Show first few rows\n",
    "print(df.head())\n",
    "\n",
    "# Total number of records\n",
    "print(\"Total records:\", df.shape[0].compute())\n",
    "\n",
    "# Number of Movies vs TV Shows\n",
    "type_counts = df['type'].value_counts().compute()\n",
    "print(\"\\nContent Type Counts:\\n\", type_counts)\n",
    "\n",
    "# Top 10 countries by content\n",
    "top_countries = df['country'].value_counts().nlargest(10).compute()\n",
    "print(\"\\nTop 10 Countries:\\n\", top_countries)\n",
    "\n",
    "# Most common genres\n",
    "top_genres = df['listed_in'].value_counts().nlargest(10).compute()\n",
    "print(\"\\nTop Genres:\\n\", top_genres)\n",
    "\n",
    "# Titles added per year\n",
    "df['date_added'] = dd.to_datetime(df['date_added'], errors='coerce')\n",
    "df['year_added'] = df['date_added'].dt.year\n",
    "year_counts = df['year_added'].value_counts().compute().sort_index()\n",
    "print(\"\\nTitles Added by Year:\\n\", year_counts)\n",
    "\n",
    "# Optional: Plot titles added per year\n",
    "year_counts.plot(kind='bar', title='Titles Added Per Year', figsize=(10,5))\n",
    "plt.xlabel(\"Year\")\n",
    "plt.ylabel(\"Number of Titles\")\n",
    "plt.tight_layout()\n",
    "plt.show()\n"
   ]
  },
  {
   "cell_type": "code",
   "execution_count": null,
   "id": "5064acd1-d4e1-4b46-991b-9f14dea870cc",
   "metadata": {},
   "outputs": [],
   "source": []
  }
 ],
 "metadata": {
  "kernelspec": {
   "display_name": "Python 3 (ipykernel)",
   "language": "python",
   "name": "python3"
  },
  "language_info": {
   "codemirror_mode": {
    "name": "ipython",
    "version": 3
   },
   "file_extension": ".py",
   "mimetype": "text/x-python",
   "name": "python",
   "nbconvert_exporter": "python",
   "pygments_lexer": "ipython3",
   "version": "3.13.5"
  }
 },
 "nbformat": 4,
 "nbformat_minor": 5
}
